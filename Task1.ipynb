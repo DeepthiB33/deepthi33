{
  "nbformat": 4,
  "nbformat_minor": 5,
  "metadata": {
    "language_info": {
      "name": "python",
      "version": "3.7.8",
      "mimetype": "text/x-python",
      "codemirror_mode": {
        "name": "ipython",
        "version": 3
      },
      "pygments_lexer": "ipython3",
      "nbconvert_exporter": "python",
      "file_extension": ".py"
    },
    "kernelspec": {
      "name": "python3",
      "display_name": "Python 3",
      "language": "python"
    },
    "colab": {
      "name": "Task1",
      "provenance": [],
      "include_colab_link": true
    }
  },
  "cells": [
    {
      "cell_type": "markdown",
      "metadata": {
        "id": "view-in-github",
        "colab_type": "text"
      },
      "source": [
        "<a href=\"https://colab.research.google.com/github/DeepthiB33/deepthi33/blob/master/Task1.ipynb\" target=\"_parent\"><img src=\"https://colab.research.google.com/assets/colab-badge.svg\" alt=\"Open In Colab\"/></a>"
      ]
    },
    {
      "cell_type": "markdown",
      "metadata": {
        "id": "KTFEQHCOVCg5"
      },
      "source": [
        "\n",
        "**#TASK 1**\n",
        "\n"
      ],
      "id": "KTFEQHCOVCg5"
    },
    {
      "cell_type": "markdown",
      "metadata": {
        "id": "OxtKGoWpVYF1"
      },
      "source": [
        "**SIRSS2302**"
      ],
      "id": "OxtKGoWpVYF1"
    },
    {
      "cell_type": "markdown",
      "metadata": {
        "id": "1_kWMQI_Vejr"
      },
      "source": [
        "**DEEPTHI**"
      ],
      "id": "1_kWMQI_Vejr"
    },
    {
      "cell_type": "code",
      "metadata": {
        "trusted": true,
        "id": "G5FrdVHcUtGI",
        "outputId": "ddd5f1ae-27ef-47bc-a0bb-b86708e8bf54"
      },
      "source": [
        "#Pattern 1\n",
        "for i in range(5,0,-1):\n",
        "  for j in range (1,i+1):\n",
        "    print('5', end = ' ')\n",
        "  print()"
      ],
      "id": "G5FrdVHcUtGI",
      "execution_count": null,
      "outputs": [
        {
          "output_type": "stream",
          "text": [
            "5 5 5 5 5 \n",
            "5 5 5 5 \n",
            "5 5 5 \n",
            "5 5 \n",
            "5 \n"
          ],
          "name": "stdout"
        }
      ]
    },
    {
      "cell_type": "markdown",
      "metadata": {
        "id": "2lmT59cvU1ow"
      },
      "source": [
        ""
      ],
      "id": "2lmT59cvU1ow"
    },
    {
      "cell_type": "code",
      "metadata": {
        "trusted": true,
        "id": "BC0MJnlZUtGJ",
        "outputId": "7d03aa89-c6b3-4a3c-bba2-c23922752ad8"
      },
      "source": [
        "#Pattern 2\n",
        "for i in range(5,0,-1):\n",
        "  for j in range (0,i+1):\n",
        "    print(j, end = ' ')\n",
        "  print()"
      ],
      "id": "BC0MJnlZUtGJ",
      "execution_count": null,
      "outputs": [
        {
          "output_type": "stream",
          "text": [
            "0 1 2 3 4 5 \n",
            "0 1 2 3 4 \n",
            "0 1 2 3 \n",
            "0 1 2 \n",
            "0 1 \n"
          ],
          "name": "stdout"
        }
      ]
    },
    {
      "cell_type": "code",
      "metadata": {
        "trusted": true,
        "id": "wrATodaSUtGK",
        "outputId": "6b29bc49-725b-4f78-eecd-75e376fa5327"
      },
      "source": [
        "#Pattern 3\n",
        "x=1\n",
        "for i in range(1,6):\n",
        "  for j in range (1,i+1,):\n",
        "    print(x, end = ' ')\n",
        "  x+=2\n",
        "  print()"
      ],
      "id": "wrATodaSUtGK",
      "execution_count": null,
      "outputs": [
        {
          "output_type": "stream",
          "text": [
            "1 \n",
            "3 3 \n",
            "5 5 5 \n",
            "7 7 7 7 \n",
            "9 9 9 9 9 \n"
          ],
          "name": "stdout"
        }
      ]
    },
    {
      "cell_type": "code",
      "metadata": {
        "trusted": true,
        "id": "HWOhblxRUtGL",
        "outputId": "07d97294-ea24-4cc8-b3b4-1cf87feb4478"
      },
      "source": [
        "#Pattern 4\n",
        "for i in range(0,5):\n",
        "  for j in range (i+1,0,-1):\n",
        "    print(j, end = ' ')\n",
        "  print()"
      ],
      "id": "HWOhblxRUtGL",
      "execution_count": null,
      "outputs": [
        {
          "output_type": "stream",
          "text": [
            "1 \n",
            "2 1 \n",
            "3 2 1 \n",
            "4 3 2 1 \n",
            "5 4 3 2 1 \n"
          ],
          "name": "stdout"
        }
      ]
    },
    {
      "cell_type": "code",
      "metadata": {
        "trusted": true,
        "id": "bUS7C1cwUtGL",
        "outputId": "c357eccc-ef37-4fd9-fde6-2e54c69045d5"
      },
      "source": [
        "#Pattern 5\n",
        "x=1\n",
        "c=1\n",
        "for i in range(0,4):\n",
        "  x=c+i\n",
        "  for j in range (0,i+1):\n",
        "    print(x, end = ' ')\n",
        "    x-=1\n",
        "    c+=1\n",
        "  print()"
      ],
      "id": "bUS7C1cwUtGL",
      "execution_count": null,
      "outputs": [
        {
          "output_type": "stream",
          "text": [
            "1 \n",
            "3 2 \n",
            "6 5 4 \n",
            "10 9 8 7 \n"
          ],
          "name": "stdout"
        }
      ]
    },
    {
      "cell_type": "code",
      "metadata": {
        "trusted": true,
        "id": "XqkX0JK6UtGL",
        "outputId": "87a7bb28-6c44-4126-858b-275a3ac6e392"
      },
      "source": [
        "#pattern 6\n",
        "from math import factorial\n",
        "n = 7\n",
        "for i in range(n):\n",
        "\tfor j in range(i+1):\n",
        "\t\tprint(factorial(i)//(factorial(j)*factorial(i-j)), end=\" \")\n",
        "\tprint()"
      ],
      "id": "XqkX0JK6UtGL",
      "execution_count": null,
      "outputs": [
        {
          "output_type": "stream",
          "text": [
            "1 \n",
            "1 1 \n",
            "1 2 1 \n",
            "1 3 3 1 \n",
            "1 4 6 4 1 \n",
            "1 5 10 10 5 1 \n",
            "1 6 15 20 15 6 1 \n"
          ],
          "name": "stdout"
        }
      ]
    },
    {
      "cell_type": "code",
      "metadata": {
        "trusted": true,
        "id": "lnKAVDO8UtGM",
        "outputId": "1a93d439-16a7-4d02-9b51-ccb999c32c62"
      },
      "source": [
        "#Pattern 7\n",
        "rows = 5\n",
        "for i in range(1, rows + 1):  \n",
        "    for j in range(1, rows + 1):  \n",
        "        if j <= i:  \n",
        "            print(i, end=' ')  \n",
        "        else:  \n",
        "            print(j, end=' ')  \n",
        "    print() "
      ],
      "id": "lnKAVDO8UtGM",
      "execution_count": null,
      "outputs": [
        {
          "output_type": "stream",
          "text": [
            "1 2 3 4 5 \n",
            "2 2 3 4 5 \n",
            "3 3 3 4 5 \n",
            "4 4 4 4 5 \n",
            "5 5 5 5 5 \n"
          ],
          "name": "stdout"
        }
      ]
    },
    {
      "cell_type": "code",
      "metadata": {
        "trusted": true,
        "id": "WGYuSaKDUtGM",
        "outputId": "6c287d5f-49b8-4498-a135-c8f22e9d7cc8"
      },
      "source": [
        "#Pattern 8\n",
        "for i in range (1,9):\n",
        "  for j in range(1, i+1):\n",
        "    x=i*j\n",
        "    print(x, end = ' ')\n",
        "  print()"
      ],
      "id": "WGYuSaKDUtGM",
      "execution_count": null,
      "outputs": [
        {
          "output_type": "stream",
          "text": [
            "1 \n",
            "2 4 \n",
            "3 6 9 \n",
            "4 8 12 16 \n",
            "5 10 15 20 25 \n",
            "6 12 18 24 30 36 \n",
            "7 14 21 28 35 42 49 \n",
            "8 16 24 32 40 48 56 64 \n"
          ],
          "name": "stdout"
        }
      ]
    },
    {
      "cell_type": "code",
      "metadata": {
        "trusted": true,
        "id": "CZ37_oliUtGN",
        "outputId": "aef60863-0c04-45e6-f466-689838ed3cb3"
      },
      "source": [
        "#Pattern 9\n",
        "rows = 6 \n",
        "k = 2 * rows - 2    \n",
        "for i in range(rows, -1, -1):    \n",
        "    for j in range(k, 0, -1):  \n",
        "        print(end=' ')  \n",
        "    k = k + 1  \n",
        "    for j in range(0, i + 1):  \n",
        "        print('*', end = ' ')  \n",
        "    print()"
      ],
      "id": "CZ37_oliUtGN",
      "execution_count": null,
      "outputs": [
        {
          "output_type": "stream",
          "text": [
            "          * * * * * * * \n",
            "           * * * * * * \n",
            "            * * * * * \n",
            "             * * * * \n",
            "              * * * \n",
            "               * * \n",
            "                * \n"
          ],
          "name": "stdout"
        }
      ]
    },
    {
      "cell_type": "code",
      "metadata": {
        "trusted": true,
        "id": "9nUYeiHcUtGN",
        "outputId": "f637147b-c75f-408a-a41e-bb0bb112d67d"
      },
      "source": [
        "#Pattern 10\n",
        "n = 10 \n",
        "m = (2 * n) - 2  \n",
        "for i in range(0, n):  \n",
        "    for j in range(0, m):  \n",
        "        print(end=\" \")  \n",
        "    m = m - 1\n",
        "    for j in range(0, i + 1):   \n",
        "        print(\"* \", end=' ')  \n",
        "    print(\" \")"
      ],
      "id": "9nUYeiHcUtGN",
      "execution_count": null,
      "outputs": [
        {
          "output_type": "stream",
          "text": [
            "                  *   \n",
            "                 *  *   \n",
            "                *  *  *   \n",
            "               *  *  *  *   \n",
            "              *  *  *  *  *   \n",
            "             *  *  *  *  *  *   \n",
            "            *  *  *  *  *  *  *   \n",
            "           *  *  *  *  *  *  *  *   \n",
            "          *  *  *  *  *  *  *  *  *   \n",
            "         *  *  *  *  *  *  *  *  *  *   \n"
          ],
          "name": "stdout"
        }
      ]
    },
    {
      "cell_type": "code",
      "metadata": {
        "trusted": true,
        "id": "gjo6JIqXUtGN",
        "outputId": "a9854382-97c7-41c8-fb91-91b0317aa530"
      },
      "source": [
        "#Pattern 11\n",
        "for i in range(1,7):\n",
        "  for j in range(i+1, 1 , -1):\n",
        "    print('* ', end = '')\n",
        "  print()\n",
        "\n",
        "print()\n",
        "\n",
        "for i in range(6,0,-1):\n",
        "  for j in range(i+1, 1 , -1):\n",
        "    print('* ', end = '')\n",
        "  print()"
      ],
      "id": "gjo6JIqXUtGN",
      "execution_count": null,
      "outputs": [
        {
          "output_type": "stream",
          "text": [
            "* \n",
            "* * \n",
            "* * * \n",
            "* * * * \n",
            "* * * * * \n",
            "* * * * * * \n",
            "\n",
            "* * * * * * \n",
            "* * * * * \n",
            "* * * * \n",
            "* * * \n",
            "* * \n",
            "* \n"
          ],
          "name": "stdout"
        }
      ]
    },
    {
      "cell_type": "code",
      "metadata": {
        "trusted": true,
        "id": "iGSaXog3UtGO",
        "outputId": "9968fee5-a38c-4f8b-f841-2a5242af1204"
      },
      "source": [
        "#Pattern 12\n",
        "for i in range(1,6):\n",
        "  for j in range(i+1, 1 , -1):\n",
        "    print('* ', end = '')\n",
        "  print()\n",
        "\n",
        "for i in range(4,0,-1):\n",
        "  for j in range(i+1, 1 , -1):\n",
        "    print('* ', end = '')\n",
        "  print()"
      ],
      "id": "iGSaXog3UtGO",
      "execution_count": null,
      "outputs": [
        {
          "output_type": "stream",
          "text": [
            "* \n",
            "* * \n",
            "* * * \n",
            "* * * * \n",
            "* * * * * \n",
            "* * * * \n",
            "* * * \n",
            "* * \n",
            "* \n"
          ],
          "name": "stdout"
        }
      ]
    },
    {
      "cell_type": "code",
      "metadata": {
        "trusted": true,
        "id": "l4Sg2Nk3UtGO",
        "outputId": "10551071-5e1e-43a7-bf25-07557c0d1570"
      },
      "source": [
        "#Pattern 13\n",
        "rows = 5\n",
        "k = 2 * (rows - 1)\n",
        "for i in range(1,6):\n",
        "  for j in range(k,0,-1):\n",
        "    print(end = ' ')\n",
        "  k=k-2\n",
        "  for j in range(i+1, 1 , -1):\n",
        "    print('* ', end = '')\n",
        "  print()\n",
        "\n",
        "rows = 4\n",
        "k = (rows-2)\n",
        "for i in range(4,0,-1):\n",
        "  for j in range(0,k):\n",
        "    print(end = ' ')\n",
        "  k=k+2\n",
        "  for j in range(1,i+1):\n",
        "    print('* ', end = '')\n",
        "  print()"
      ],
      "id": "l4Sg2Nk3UtGO",
      "execution_count": null,
      "outputs": [
        {
          "output_type": "stream",
          "text": [
            "        * \n",
            "      * * \n",
            "    * * * \n",
            "  * * * * \n",
            "* * * * * \n",
            "  * * * * \n",
            "    * * * \n",
            "      * * \n",
            "        * \n"
          ],
          "name": "stdout"
        }
      ]
    },
    {
      "cell_type": "code",
      "metadata": {
        "trusted": true,
        "id": "iTz86wvFUtGO",
        "outputId": "af60c9d4-3942-4948-9af6-2f76a7f32d1c"
      },
      "source": [
        "#Pattern 14\n",
        "row = 5\n",
        "# Upper-half\n",
        "for i in range(row, 0, -1):\n",
        "    for j in range(row-i):\n",
        "        print(\" \", end=\"\")\n",
        "    for j in range(1, 2*i):\n",
        "        print(\"*\", end=\"\")\n",
        "    print()\n",
        "\n",
        "# Lower-half\n",
        "for i in range(2, row+1):\n",
        "    for j in range(row-i):\n",
        "        print(\" \", end=\"\")\n",
        "    for j in range(1, 2*i):\n",
        "        print(\"*\", end=\"\")\n",
        "    print()"
      ],
      "id": "iTz86wvFUtGO",
      "execution_count": null,
      "outputs": [
        {
          "output_type": "stream",
          "text": [
            "*********\n",
            " *******\n",
            "  *****\n",
            "   ***\n",
            "    *\n",
            "   ***\n",
            "  *****\n",
            " *******\n",
            "*********\n"
          ],
          "name": "stdout"
        }
      ]
    },
    {
      "cell_type": "code",
      "metadata": {
        "trusted": true,
        "id": "ugvDfSZdUtGP",
        "outputId": "32327ba7-11bf-4521-9a79-3fec72988b38"
      },
      "source": [
        "#Pattern 15\n",
        "\n",
        "n = 7\n",
        "m = (2 * n) - 2  \n",
        "for i in range(0, n):  \n",
        "    for j in range(0, m):  \n",
        "        print('*',end=\"\")  \n",
        "    m = m - 1\n",
        "    for j in range(1, i + 1):   \n",
        "        print(\"_ \", end='')  \n",
        "    print(\" \") "
      ],
      "id": "ugvDfSZdUtGP",
      "execution_count": null,
      "outputs": [
        {
          "output_type": "stream",
          "text": [
            "************ \n",
            "***********_  \n",
            "**********_ _  \n",
            "*********_ _ _  \n",
            "********_ _ _ _  \n",
            "*******_ _ _ _ _  \n",
            "******_ _ _ _ _ _  \n"
          ],
          "name": "stdout"
        }
      ]
    },
    {
      "cell_type": "code",
      "metadata": {
        "trusted": true,
        "id": "6SzKkJpuUtGP"
      },
      "source": [
        "#pattern 16\n",
        "n = 7\n",
        "m = (2 * n) - 1 \n",
        "for i in range(0, n):  \n",
        "    for j in range(0, m):  \n",
        "        print('*',end=\"\")  \n",
        "    m = m - 2\n",
        "    for j in range(1, i+1):   \n",
        "        print(\"_\", end='')  \n",
        "    print(\" \")"
      ],
      "id": "6SzKkJpuUtGP",
      "execution_count": null,
      "outputs": []
    },
    {
      "cell_type": "code",
      "metadata": {
        "id": "ycYLkIHAUtGP"
      },
      "source": [
        ""
      ],
      "id": "ycYLkIHAUtGP",
      "execution_count": null,
      "outputs": []
    }
  ]
}