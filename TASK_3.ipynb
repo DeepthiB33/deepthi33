{
  "nbformat": 4,
  "nbformat_minor": 0,
  "metadata": {
    "colab": {
      "name": "TASK 3",
      "provenance": [],
      "collapsed_sections": [],
      "authorship_tag": "ABX9TyN8JnMBymAV7xET6G7UknRn",
      "include_colab_link": true
    },
    "kernelspec": {
      "name": "python3",
      "display_name": "Python 3"
    },
    "language_info": {
      "name": "python"
    }
  },
  "cells": [
    {
      "cell_type": "markdown",
      "metadata": {
        "id": "view-in-github",
        "colab_type": "text"
      },
      "source": [
        "<a href=\"https://colab.research.google.com/github/DeepthiB33/deepthi33/blob/master/TASK_3.ipynb\" target=\"_parent\"><img src=\"https://colab.research.google.com/assets/colab-badge.svg\" alt=\"Open In Colab\"/></a>"
      ]
    },
    {
      "cell_type": "markdown",
      "metadata": {
        "id": "ZCbqzgsAFo-I"
      },
      "source": [
        "**TASK 3**"
      ]
    },
    {
      "cell_type": "markdown",
      "metadata": {
        "id": "LR3FyOxCF50P"
      },
      "source": [
        "**RESGISTER ID - SIRSS2302**"
      ]
    },
    {
      "cell_type": "markdown",
      "metadata": {
        "id": "FMPiJHN6GNC_"
      },
      "source": [
        "\n",
        "Q1. Write a function to return nth term of Fibonacci sequence."
      ]
    },
    {
      "cell_type": "code",
      "metadata": {
        "id": "bR550aQUEOvj"
      },
      "source": [
        "def Fibonacci():\n",
        "    num = int(input('Enter the numeber:'))\n",
        "    Fibonacci_Sequence = [0,1]\n",
        "    \n",
        "    for i in range(0,(num+1)):\n",
        "        if num == 0:\n",
        "            return Fibonacci_Sequence[0]\n",
        "        elif num == 1:\n",
        "            return Fibonacci_Sequence\n",
        "        if i>2:\n",
        "            k = Fibonacci_Sequence[i-2] + Fibonacci_Sequence[i-3]\n",
        "            Fibonacci_Sequence.append(k)\n",
        "    return Fibonacci_Sequence"
      ],
      "execution_count": 4,
      "outputs": []
    },
    {
      "cell_type": "code",
      "metadata": {
        "colab": {
          "base_uri": "https://localhost:8080/"
        },
        "id": "WgFvJeCDEtq6",
        "outputId": "c3deccb9-1818-4374-b5e3-844fd1ada74b"
      },
      "source": [
        "Fibonacci()"
      ],
      "execution_count": 6,
      "outputs": [
        {
          "output_type": "stream",
          "text": [
            "Enter the numeber:7\n"
          ],
          "name": "stdout"
        },
        {
          "output_type": "execute_result",
          "data": {
            "text/plain": [
              "[0, 1, 1, 2, 3, 5, 8]"
            ]
          },
          "metadata": {},
          "execution_count": 6
        }
      ]
    },
    {
      "cell_type": "markdown",
      "metadata": {
        "id": "iP9uA39-GWdH"
      },
      "source": [
        "Q2. Write a function to find out GCD of two numbers using EUCLID'S algorithm."
      ]
    },
    {
      "cell_type": "code",
      "metadata": {
        "id": "ju-BMDZ3E8Me"
      },
      "source": [
        "def gcd():\n",
        "    num1 = int(input('Enter first number:'))\n",
        "    num2 = int(input('Enter second number:'))\n",
        "    \n",
        "    # this list contain all common divisor of num1 and num2 numbers.\n",
        "    common_divisor_list = []\n",
        "    \n",
        "    for i in range(1,num1):\n",
        "        for j in range(1,num2):\n",
        "            if (num1//i and num1%i==0 and num2//j and num2%j==0):\n",
        "                if i == j:\n",
        "                    common_divisor_list.append(i)     \n",
        "    return common_divisor_list[-1]"
      ],
      "execution_count": 7,
      "outputs": []
    },
    {
      "cell_type": "code",
      "metadata": {
        "colab": {
          "base_uri": "https://localhost:8080/"
        },
        "id": "8Dd8M2zVFI2J",
        "outputId": "a555a919-e61a-4eca-9d48-e0a4ef8e89e9"
      },
      "source": [
        "gcd()\n"
      ],
      "execution_count": 10,
      "outputs": [
        {
          "output_type": "stream",
          "text": [
            "Enter first number:200\n",
            "Enter second number:109\n"
          ],
          "name": "stdout"
        },
        {
          "output_type": "execute_result",
          "data": {
            "text/plain": [
              "1"
            ]
          },
          "metadata": {},
          "execution_count": 10
        }
      ]
    },
    {
      "cell_type": "markdown",
      "metadata": {
        "id": "OutMXnlEGbeS"
      },
      "source": [
        "\n",
        "Q3. Write a function to find LCM of two number in most optimizers way."
      ]
    },
    {
      "cell_type": "code",
      "metadata": {
        "id": "Rbp2xJ_AFZSQ"
      },
      "source": [
        "def lcm():\n",
        "    num1 = int(input('Enter first number:'))\n",
        "    num2 = int(input('Enter second number:'))\n",
        "    \n",
        "    # this list contain all common divisor of num1 and num2 numbers.\n",
        "    common_divisor_list = []\n",
        "    \n",
        "    for i in range(1,num1):\n",
        "        for j in range(1,num2):\n",
        "            if (num1//i and num1%i==0 and num2//j and num2%j==0):\n",
        "                if i == j:\n",
        "                    common_divisor_list.append(i)\n",
        "    gcd = common_divisor_list[-1]\n",
        "    lcm = abs(num1*num2)//gcd\n",
        "    return lcm"
      ],
      "execution_count": 11,
      "outputs": []
    },
    {
      "cell_type": "code",
      "metadata": {
        "colab": {
          "base_uri": "https://localhost:8080/"
        },
        "id": "lwsNY0iYFhF8",
        "outputId": "0f2c6f31-2d63-482b-ab8e-6093bcf2f76b"
      },
      "source": [
        "lcm()"
      ],
      "execution_count": 12,
      "outputs": [
        {
          "output_type": "stream",
          "text": [
            "Enter first number:10\n",
            "Enter second number:12\n"
          ],
          "name": "stdout"
        },
        {
          "output_type": "execute_result",
          "data": {
            "text/plain": [
              "60"
            ]
          },
          "metadata": {},
          "execution_count": 12
        }
      ]
    }
  ]
}