{
  "nbformat": 4,
  "nbformat_minor": 5,
  "metadata": {
    "kernelspec": {
      "name": "python3",
      "display_name": "Python 3",
      "language": "python"
    },
    "language_info": {
      "name": "python",
      "version": "3.6.13",
      "mimetype": "text/x-python",
      "codemirror_mode": {
        "name": "ipython",
        "version": 3
      },
      "pygments_lexer": "ipython3",
      "nbconvert_exporter": "python",
      "file_extension": ".py"
    },
    "colab": {
      "name": "TASK2",
      "provenance": [],
      "collapsed_sections": [],
      "include_colab_link": true
    }
  },
  "cells": [
    {
      "cell_type": "markdown",
      "metadata": {
        "id": "view-in-github",
        "colab_type": "text"
      },
      "source": [
        "<a href=\"https://colab.research.google.com/github/DeepthiB33/deepthi33/blob/master/TASK2.ipynb\" target=\"_parent\"><img src=\"https://colab.research.google.com/assets/colab-badge.svg\" alt=\"Open In Colab\"/></a>"
      ]
    },
    {
      "cell_type": "markdown",
      "metadata": {
        "id": "CYfc6zKU1Hw0"
      },
      "source": [
        "#Task 2\n",
        "# Registration/Referral id : SIRSS2302\n",
        "\n",
        "# Name : Deepthi Boddu"
      ],
      "id": "CYfc6zKU1Hw0"
    },
    {
      "cell_type": "markdown",
      "metadata": {
        "id": "vBa3V0TO1YVb"
      },
      "source": [
        "**Q1. Write a lambda expression to extract first word of a string.**"
      ],
      "id": "vBa3V0TO1YVb"
    },
    {
      "cell_type": "code",
      "metadata": {
        "trusted": true,
        "id": "Wsfsf7JS1FJg",
        "outputId": "5464cbee-44ea-433b-e3d1-79901d83da20"
      },
      "source": [
        "a = 'hope for the best.'\n",
        "x = lambda s : s.split()[0]\n",
        "print(x(a))"
      ],
      "id": "Wsfsf7JS1FJg",
      "execution_count": null,
      "outputs": [
        {
          "output_type": "stream",
          "text": [
            "hope\n"
          ],
          "name": "stdout"
        }
      ]
    },
    {
      "cell_type": "markdown",
      "metadata": {
        "id": "fD5k-ShI2Azz"
      },
      "source": [
        "**Q.2 Write a function to extract first word of s string (with many words separated by space).**"
      ],
      "id": "fD5k-ShI2Azz"
    },
    {
      "cell_type": "code",
      "metadata": {
        "trusted": true,
        "id": "3a7rQDMA1FJk",
        "outputId": "83338080-d2f4-4263-f60b-a1b99dd51049"
      },
      "source": [
        "a = \"hope for the best\"\n",
        "def func(s):\n",
        "  return s.split()[0]\n",
        "print(func(a))"
      ],
      "id": "3a7rQDMA1FJk",
      "execution_count": null,
      "outputs": [
        {
          "output_type": "stream",
          "text": [
            "hope\n"
          ],
          "name": "stdout"
        }
      ]
    },
    {
      "cell_type": "markdown",
      "metadata": {
        "id": "XU-J9Drn2KHF"
      },
      "source": [
        "**Q.3 Extract the first word from every string from a list of strings by using map function.**"
      ],
      "id": "XU-J9Drn2KHF"
    },
    {
      "cell_type": "code",
      "metadata": {
        "trusted": true,
        "id": "qyu4LGJ61FJm",
        "outputId": "fbeadb26-d06b-45b2-f333-488414be7d57"
      },
      "source": [
        "l = ['forgive freely', 'beautiful chaos', 'have patience']\n",
        "list(map(func,l))"
      ],
      "id": "qyu4LGJ61FJm",
      "execution_count": null,
      "outputs": [
        {
          "output_type": "execute_result",
          "data": {
            "text/plain": [
              "['forgive', 'beautiful', 'have']"
            ]
          },
          "metadata": {
            "tags": []
          },
          "execution_count": 5
        }
      ]
    },
    {
      "cell_type": "markdown",
      "metadata": {
        "id": "AAxTxF6n2SG4"
      },
      "source": [
        "**Q.4 Write a function to return a list of prime factors of a given number.**"
      ],
      "id": "AAxTxF6n2SG4"
    },
    {
      "cell_type": "code",
      "metadata": {
        "trusted": true,
        "id": "eGTCmmCj1FJo",
        "outputId": "e29b32ad-5cb1-4fd7-82c0-97fd18319d72"
      },
      "source": [
        "def PrimeFactor(x):\n",
        "    prime_fact = []\n",
        "    d = 2\n",
        "\n",
        "    while d <= x:\n",
        "        if x % d == 0:\n",
        "            prime_fact.append(d)\n",
        "            x = x/d\n",
        "        else:\n",
        "            d += 1\n",
        "    return prime_fact\n",
        "\n",
        "print(PrimeFactor(34))"
      ],
      "id": "eGTCmmCj1FJo",
      "execution_count": null,
      "outputs": [
        {
          "output_type": "stream",
          "text": [
            "[2, 17]\n"
          ],
          "name": "stdout"
        }
      ]
    },
    {
      "cell_type": "markdown",
      "metadata": {
        "id": "XfIHIG6S2bE1"
      },
      "source": [
        "**Q.5 Write a function that finds 2nd largest among 4 numbers (Repetitions are allowed, without sorting).**"
      ],
      "id": "XfIHIG6S2bE1"
    },
    {
      "cell_type": "code",
      "metadata": {
        "trusted": true,
        "id": "3-tXCS0h1FJr",
        "outputId": "88f18e9d-2998-4832-997c-a68c6b62d728"
      },
      "source": [
        "a = []\n",
        "for i in range(5):\n",
        "  b = int(input(\"ENter 5 numbers :  \"))\n",
        "  a.append(b)\n",
        "c = set(a)\n",
        "c.remove(max(c))\n",
        "print(max(c))"
      ],
      "id": "3-tXCS0h1FJr",
      "execution_count": null,
      "outputs": [
        {
          "output_type": "stream",
          "text": [
            "ENter 5 numbers :  3\n",
            "ENter 5 numbers :  7\n",
            "ENter 5 numbers :  33\n",
            "ENter 5 numbers :  27\n",
            "ENter 5 numbers :  327\n",
            "33\n"
          ],
          "name": "stdout"
        }
      ]
    },
    {
      "cell_type": "code",
      "metadata": {
        "trusted": true,
        "id": "Yim9A8D-1FJt"
      },
      "source": [
        ""
      ],
      "id": "Yim9A8D-1FJt",
      "execution_count": null,
      "outputs": []
    }
  ]
}