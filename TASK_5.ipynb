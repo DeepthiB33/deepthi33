{
  "nbformat": 4,
  "nbformat_minor": 0,
  "metadata": {
    "colab": {
      "name": "TASK 5",
      "provenance": [],
      "authorship_tag": "ABX9TyO3sU9oC4WKJNCGlwMlFOWn",
      "include_colab_link": true
    },
    "kernelspec": {
      "name": "python3",
      "display_name": "Python 3"
    },
    "language_info": {
      "name": "python"
    }
  },
  "cells": [
    {
      "cell_type": "markdown",
      "metadata": {
        "id": "view-in-github",
        "colab_type": "text"
      },
      "source": [
        "<a href=\"https://colab.research.google.com/github/DeepthiB33/deepthi33/blob/master/TASK_5.ipynb\" target=\"_parent\"><img src=\"https://colab.research.google.com/assets/colab-badge.svg\" alt=\"Open In Colab\"/></a>"
      ]
    },
    {
      "cell_type": "markdown",
      "metadata": {
        "id": "TSLkQKfZX-cv"
      },
      "source": [
        "**Task 5**\n",
        "\n",
        "# Deepthi Boddu\n",
        "\n",
        "# Regd no: SIRSS2302"
      ]
    },
    {
      "cell_type": "markdown",
      "metadata": {
        "id": "v6zcaJNJYVeW"
      },
      "source": [
        "**Q1. Given a list of integers, write a function to return the sum of all prime numbers in that list.**"
      ]
    },
    {
      "cell_type": "code",
      "metadata": {
        "colab": {
          "base_uri": "https://localhost:8080/"
        },
        "id": "xFha2eoDXCf7",
        "outputId": "0bcdf07b-4084-442a-eb2f-94d0d796991d"
      },
      "source": [
        "import math\n",
        "def prime(n):\n",
        "    if n == 0 or n == 1:\n",
        "        return False\n",
        "    else:\n",
        "        for i in range(2, int(n**0.5)+1):\n",
        "            if n%i == 0:\n",
        "                return False\n",
        "                break\n",
        "        else:\n",
        "            return True\n",
        "            \n",
        "def sum_prime(ls):\n",
        "    sum_of_primes=0\n",
        "    print(\"Prime numbers in list :\")\n",
        "    for i in ls:\n",
        "        if prime(i):\n",
        "            print(i)\n",
        "            sum_of_primes += i\n",
        "    print(\"Sum of primes :\",sum_of_primes)\n",
        "sum_prime([0,1,2,3,4,5,6,7,8,9,10,11,12,13])"
      ],
      "execution_count": 7,
      "outputs": [
        {
          "output_type": "stream",
          "name": "stdout",
          "text": [
            "Prime numbers in list :\n",
            "2\n",
            "3\n",
            "5\n",
            "7\n",
            "11\n",
            "13\n",
            "Sum of primes : 41\n"
          ]
        }
      ]
    },
    {
      "cell_type": "markdown",
      "metadata": {
        "id": "XQyTwcWCYZKb"
      },
      "source": [
        "**Q2. Given a list of integers, write a function to check whether the list is strictly increasing or not**"
      ]
    },
    {
      "cell_type": "code",
      "metadata": {
        "colab": {
          "base_uri": "https://localhost:8080/"
        },
        "id": "eamS5py7XKPp",
        "outputId": "9a72e4ad-a078-43e5-f253-ae4e4902c535"
      },
      "source": [
        "def Inc(l):\n",
        "    flag=True\n",
        "    for i in range(1,len(l)):\n",
        "        if l[i-1]>l[i]:\n",
        "            flag=False\n",
        "            break\n",
        "    return flag\n",
        "l1=input().split()\n",
        "list1=list(map(lambda x:int(x),l1))\n",
        "print('List is strictly increases : ',Inc(list1))"
      ],
      "execution_count": 3,
      "outputs": [
        {
          "output_type": "stream",
          "name": "stdout",
          "text": [
            "33 43 2\n",
            "List is strictly increases :  False\n"
          ]
        }
      ]
    },
    {
      "cell_type": "markdown",
      "metadata": {
        "id": "zuI_nx79YkHX"
      },
      "source": [
        "**Q3. Write a function to check whether a given list is expanding or not (the difference between adjacent elements should keep on increasing).**"
      ]
    },
    {
      "cell_type": "code",
      "metadata": {
        "colab": {
          "base_uri": "https://localhost:8080/"
        },
        "id": "CSdbEFqfXPvB",
        "outputId": "0b1e2c74-81a4-4bc8-e12d-b51a7896fbc7"
      },
      "source": [
        "def expanding(l):\n",
        "    d1 = abs(l[1] - l[0])\n",
        "    d2 = abs(l[2] - l[1])\n",
        "    \n",
        "    if d1 >= d2:\n",
        "        return False\n",
        "    \n",
        "    else:\n",
        "        for i in range(3,len(l)):\n",
        "            d3 = abs(l[i] - l[i-1])\n",
        "            if d3 <= d2:\n",
        "                return False\n",
        "            d2 = d3\n",
        "        else:\n",
        "            return True\n",
        "expanding([3,7,33,9])"
      ],
      "execution_count": 6,
      "outputs": [
        {
          "output_type": "execute_result",
          "data": {
            "text/plain": [
              "False"
            ]
          },
          "metadata": {},
          "execution_count": 6
        }
      ]
    },
    {
      "cell_type": "markdown",
      "metadata": {
        "id": "Gdcsp2dBYpIw"
      },
      "source": [
        "**Q4. Write a function to calculate all permutations of a given string. (Without using itertools)**"
      ]
    },
    {
      "cell_type": "code",
      "metadata": {
        "colab": {
          "base_uri": "https://localhost:8080/"
        },
        "id": "bGMU1pl0XTqA",
        "outputId": "477dd85b-4682-484e-e5b2-ebc9beb90991"
      },
      "source": [
        "def permutation(str) :\n",
        "    if len(str) == 1 :\n",
        "        return [str]\n",
        "    prmts = permutation(str[1:])\n",
        "    fst = str[0]\n",
        "    rslt = []\n",
        "    for i in prmts :\n",
        "        for j in range(len(i)+1) :\n",
        "            rslt.append(i[:j] + fst + i[j:])\n",
        "    return rslt\n",
        "\n",
        "\n",
        "inp = str(input(\"Enter the String : \"))\n",
        "permutation(inp)"
      ],
      "execution_count": 5,
      "outputs": [
        {
          "name": "stdout",
          "output_type": "stream",
          "text": [
            "Enter the String : rio\n"
          ]
        },
        {
          "output_type": "execute_result",
          "data": {
            "text/plain": [
              "['rio', 'iro', 'ior', 'roi', 'ori', 'oir']"
            ]
          },
          "metadata": {},
          "execution_count": 5
        }
      ]
    }
  ]
}